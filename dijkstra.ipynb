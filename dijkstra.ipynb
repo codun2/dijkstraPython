{
  "nbformat": 4,
  "nbformat_minor": 0,
  "metadata": {
    "colab": {
      "name": "Untitled65.ipynb",
      "provenance": []
    },
    "kernelspec": {
      "name": "python3",
      "display_name": "Python 3"
    },
    "language_info": {
      "name": "python"
    }
  },
  "cells": [
    {
      "cell_type": "code",
      "metadata": {
        "id": "SUHlSpBxLuAu"
      },
      "source": [
        "class Graph(): \n",
        "    \n",
        "    def __init__(self, nodes):\n",
        "\n",
        "        self.distArray = [0 for i in range(nodes)]\n",
        "        self.vistSet = [0 for i in range(nodes)]\n",
        "        self.V = nodes\n",
        "        self.INF = 1000000\n",
        "        self.graph = [[0 for column in range(nodes)]  \n",
        "                    for row in range(nodes)]\n",
        "   \n",
        "    def dijkstra(self, srcNode):\n",
        "        for i in range(self.V):\n",
        "\n",
        "          self.distArray[i] = self.INF\n",
        "\n",
        "          self.vistSet[i] = False\n",
        "\n",
        "        self.distArray[srcNode] = 0\n",
        "        for i in range(self.V): \n",
        "  \n",
        "    \n",
        "    \n",
        "            u = self.minDistance(self.distArray, self.vistSet) \n",
        "  \n",
        "           \n",
        "           \n",
        "            self.vistSet[u] = True\n",
        "  \n",
        "          \n",
        "          \n",
        "            for v in range(self.V): \n",
        "                if self.graph[u][v] > 0 and self.vistSet[v] == False and self.distArray[v] > self.distArray[u] + self.graph[u][v]: \n",
        "                        self.distArray[v] = self.distArray[u] + self.graph[u][v] \n",
        "  \n",
        "        self.printSolution(self.distArray)\n",
        "\n",
        "    \n",
        "    def minDistance(self, distArray, vistSet): \n",
        "  \n",
        "\n",
        "        min = self.INF\n",
        "  \n",
        "        for v in range(self.V): \n",
        "            if distArray[v] < min and vistSet[v] == False: \n",
        "                min = distArray[v] \n",
        "                min_index = v \n",
        "  \n",
        "        return min_index\n",
        "\n",
        "    def printSolution(self, distArray): \n",
        "        print (\"Node \\tDistance from 0\")\n",
        "        for i in range(self.V): \n",
        "            print (i, \"\\t\", distArray[i])\n",
        "\n",
        "\n"
      ],
      "execution_count": 28,
      "outputs": []
    },
    {
      "cell_type": "code",
      "metadata": {
        "colab": {
          "base_uri": "https://localhost:8080/"
        },
        "id": "zxz9JxdMPTZR",
        "outputId": "adad587d-d7d1-4442-8511-5c16e6815626"
      },
      "source": [
        "ourGraph = Graph(5) \n",
        "ourGraph.graph = [[2, 2, 0, 1, 2, 5, 0], \n",
        "        [2, 0, 0, 5, 0, 0, 0], \n",
        "        [6, 6, 0, 8, 6, 0, 0], \n",
        "        [0, 0, 8, 0, 10, 15, 0], \n",
        "        [0, 0, 0, 10, 0, 6, 2], \n",
        "        [0, 0, 0, 15, 6, 0, 6], \n",
        "        [0, 0, 0, 15, 2, 6, 0],\n",
        "        ]; \n",
        "  \n",
        "ourGraph.dijkstra(2)"
      ],
      "execution_count": 34,
      "outputs": [
        {
          "output_type": "stream",
          "text": [
            "Node \tDistance from 0\n",
            "0 \t 6\n",
            "1 \t 6\n",
            "2 \t 0\n",
            "3 \t 7\n",
            "4 \t 6\n"
          ],
          "name": "stdout"
        }
      ]
    }
  ]
}